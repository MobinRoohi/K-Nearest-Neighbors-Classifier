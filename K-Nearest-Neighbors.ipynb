{
 "cells": [
  {
   "cell_type": "markdown",
   "metadata": {},
   "source": [
    "# Problem 8: K-Nearest-Neighbors Classifier"
   ]
  },
  {
   "cell_type": "markdown",
   "metadata": {},
   "source": [
    "In this project we will, implement a simple KNN classifier to classify between three classes of wheat seeds using the \"Wheat Seeds\" dataset."
   ]
  },
  {
   "cell_type": "markdown",
   "metadata": {},
   "source": [
    "## Packages"
   ]
  },
  {
   "cell_type": "code",
   "execution_count": 36,
   "metadata": {},
   "outputs": [],
   "source": [
    "import numpy as np\n",
    "import pandas as pd\n",
    "import matplotlib.pyplot as plt"
   ]
  },
  {
   "cell_type": "markdown",
   "metadata": {},
   "source": [
    "## Import Dataset"
   ]
  },
  {
   "cell_type": "code",
   "execution_count": 37,
   "metadata": {},
   "outputs": [],
   "source": [
    "data = './seeds.csv'\n",
    "\n",
    "df = pd.read_csv(data)"
   ]
  },
  {
   "cell_type": "code",
   "execution_count": 38,
   "metadata": {},
   "outputs": [
    {
     "name": "stdout",
     "output_type": "stream",
     "text": [
      "['Area' 'Perimeter' 'Compactness' 'Kernel.Length' 'Kernel.Width'\n",
      " 'Asymmetry.Coeff' 'Kernel.Groove']\n"
     ]
    },
    {
     "data": {
      "text/plain": [
       "array([1, 1, 1, 1, 1, 1, 1, 1, 1, 1, 1, 1, 1, 1, 1, 1, 1, 1, 1, 1, 1, 1,\n",
       "       1, 1, 1, 1, 1, 1, 1, 1, 1, 1, 1, 1, 1, 1, 1, 1, 1, 1, 1, 1, 1, 1,\n",
       "       1, 1, 1, 1, 1, 1, 1, 1, 1, 1, 1, 1, 1, 1, 1, 1, 1, 1, 1, 1, 1, 1,\n",
       "       2, 2, 2, 2, 2, 2, 2, 2, 2, 2, 2, 2, 2, 2, 2, 2, 2, 2, 2, 2, 2, 2,\n",
       "       2, 2, 2, 2, 2, 2, 2, 2, 2, 2, 2, 2, 2, 2, 2, 2, 2, 2, 2, 2, 2, 2,\n",
       "       2, 2, 2, 2, 2, 2, 2, 2, 2, 2, 2, 2, 2, 2, 2, 2, 2, 2, 2, 2, 2, 2,\n",
       "       2, 2, 3, 3, 3, 3, 3, 3, 3, 3, 3, 3, 3, 3, 3, 3, 3, 3, 3, 3, 3, 3,\n",
       "       3, 3, 3, 3, 3, 3, 3, 3, 3, 3, 3, 3, 3, 3, 3, 3, 3, 3, 3, 3, 3, 3,\n",
       "       3, 3, 3, 3, 3, 3, 3, 3, 3, 3, 3, 3, 3, 3, 3, 3, 3, 3, 3, 3, 3, 3,\n",
       "       3])"
      ]
     },
     "execution_count": 38,
     "metadata": {},
     "output_type": "execute_result"
    }
   ],
   "source": [
    "# Separate the features from the target variable\n",
    "column_names = df.columns.to_numpy()[:-1]\n",
    "print(column_names)\n",
    "data = df.to_numpy()\n",
    "X = data[:, 0:7]\n",
    "Y = data[:, 7:].reshape(-1).astype(int)\n",
    "Y"
   ]
  },
  {
   "cell_type": "code",
   "execution_count": 39,
   "metadata": {},
   "outputs": [],
   "source": [
    "def zscore_normalize(X):\n",
    "    # Calculate the needed statistics\n",
    "    mean = np.mean(X, axis=0)\n",
    "    std = np.std(X, axis=0)\n",
    "    \n",
    "    # Z-score formula\n",
    "    X_norm = (X - mean) / std\n",
    "    \n",
    "    return X_norm"
   ]
  },
  {
   "cell_type": "markdown",
   "metadata": {},
   "source": [
    "## Preprocessing and Normalization\n",
    "In this section, we normalize the data using the z-score normalization we implemented before. This will scale all the features to have the same scale and places them in the interval $[-1, 1]$. This will allow for preventing the effects of magnitude of the numerical values of the features having a bigger impact than they should. This also allows for training time to reduce."
   ]
  },
  {
   "cell_type": "code",
   "execution_count": 40,
   "metadata": {},
   "outputs": [],
   "source": [
    "X_norm = zscore_normalize(X)"
   ]
  },
  {
   "cell_type": "markdown",
   "metadata": {},
   "source": [
    "## Split Data\n",
    "Here we split the data into train/test sets."
   ]
  },
  {
   "cell_type": "code",
   "execution_count": 41,
   "metadata": {},
   "outputs": [],
   "source": [
    "# Create a mask for splitting\n",
    "np.random.seed(30)\n",
    "numzero = int(0.2 * X.shape[0])\n",
    "mask = np.array([0] * numzero + [1] * (X.shape[0] - numzero))\n",
    "np.random.shuffle(mask)\n",
    "\n",
    "# Split into train/test\n",
    "X_train = X_norm[mask==1]\n",
    "X_test = X_norm[mask==0]\n",
    "\n",
    "Y_train = Y[mask==1]\n",
    "Y_test = Y[mask==0]"
   ]
  },
  {
   "cell_type": "markdown",
   "metadata": {},
   "source": [
    "## K-Nearest-Neighbor Classifier"
   ]
  },
  {
   "cell_type": "markdown",
   "metadata": {},
   "source": [
    "To implement this classifier, we do so by creating a class that gets instantiated by $k$ value. It then can find the $k$ nearest neighbors and put them to vote, to decide for the most common and major class label."
   ]
  },
  {
   "cell_type": "code",
   "execution_count": 42,
   "metadata": {},
   "outputs": [],
   "source": [
    "def l2_norm(x1, x2):\n",
    "    return np.sqrt(np.sum((x1 - x2) ** 2))\n",
    "\n",
    "class KNN:\n",
    "    def __init__(self, k=3):\n",
    "        self.k = k\n",
    "\n",
    "    def fit(self, X, y):\n",
    "        self.X_train = X\n",
    "        self.y_train = y\n",
    "\n",
    "    def predict(self, X):\n",
    "        y_pred = [self.k_nearest_neighbors(x) for x in X]\n",
    "        return np.array(y_pred)\n",
    "\n",
    "    def k_nearest_neighbors(self, x):\n",
    "        distances = [l2_norm(x, x_train) for x_train in self.X_train]\n",
    "        k_neighbors = np.argsort(distances)[:self.k]\n",
    "        k_nearest_neighbors = [self.y_train[i] for i in k_neighbors]\n",
    "        \n",
    "        # Voting for the most common class label\n",
    "        most_common = self.majority_vote(np.array(k_nearest_neighbors))\n",
    "        return most_common\n",
    "\n",
    "    def majority_vote(self, labels):\n",
    "        # Find the most common label\n",
    "        class_one = labels[labels==1]\n",
    "        class_two = labels[labels==2]\n",
    "        class_three = labels[labels==3]\n",
    "        return np.argmax([class_one.shape[0], class_two.shape[0], class_three.shape[0]]) + 1 "
   ]
  },
  {
   "cell_type": "markdown",
   "metadata": {},
   "source": [
    "Now, we create 10 different instances of this class using hyper-parameters of $k = 1, 2, \\cdots, 10$. Then, by plotting the accuracy of each model, we find out which of these 10 different values for the hyper-parameter $k$, results in more accuracy in classification and prediction."
   ]
  },
  {
   "cell_type": "code",
   "execution_count": 43,
   "metadata": {},
   "outputs": [],
   "source": [
    "def accuracy(x, y):\n",
    "    return np.sum(x==y) / x.shape"
   ]
  },
  {
   "cell_type": "code",
   "execution_count": 44,
   "metadata": {},
   "outputs": [
    {
     "data": {
      "image/png": "[encoded data removed]",
      "text/plain": [
       "<Figure size 720x432 with 1 Axes>"
      ]
     },
     "metadata": {
      "needs_background": "light"
     },
     "output_type": "display_data"
    },
    {
     "name": "stdout",
     "output_type": "stream",
     "text": [
      "[array([0.94871795]), array([0.94871795]), array([0.97435897]), array([0.97435897]), array([0.97435897]), array([0.97435897]), array([0.92307692]), array([0.92307692]), array([0.92307692]), array([0.94871795])]\n"
     ]
    }
   ],
   "source": [
    "accuracy_hist = []\n",
    "for i in range(1, 11):\n",
    "    knn = KNN(i)\n",
    "    knn.fit(X_train, Y_train)\n",
    "    X_pred = knn.predict(X_test)\n",
    "    accuracy_hist.append(accuracy(X_pred, Y_test))\n",
    "\n",
    "plt.style.use(\"bmh\")\n",
    "plt.figure(figsize=(10, 6))\n",
    "plt.plot(list(range(1, 11)), accuracy_hist, label='Accuaracy', \n",
    "         linewidth=3, color=\"black\", marker=\"o\", markersize=8, markerfacecolor=\"cyan\")\n",
    "plt.title(\"Test Accuracy of Model vs Choice of Hyper-parameter $k$\")\n",
    "plt.xlabel('$k$')\n",
    "plt.ylabel('Test Accuracy')\n",
    "plt.legend()\n",
    "plt.ylim(0.9, 0.98)\n",
    "plt.grid(True)\n",
    "plt.xticks(np.arange(1, 11))\n",
    "# plt.savefig(\"data_probl8.png\", dpi=200)\n",
    "plt.show()\n",
    "\n",
    "print(accuracy_hist)"
   ]
  }
 ],
 "metadata": {
  "kernelspec": {
   "display_name": "Python 3",
   "language": "python",
   "name": "python3"
  },
  "language_info": {
   "codemirror_mode": {
    "name": "ipython",
    "version": 3
   },
   "file_extension": ".py",
   "mimetype": "text/x-python",
   "name": "python",
   "nbconvert_exporter": "python",
   "pygments_lexer": "ipython3",
   "version": "3.10.1"
  }
 },
 "nbformat": 4,
 "nbformat_minor": 2
}
